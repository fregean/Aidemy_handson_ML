{
  "cells": [
    {
      "cell_type": "markdown",
      "metadata": {
        "id": "5u76cJvuNSyu"
      },
      "source": [
        "<a href=\"https://colab.research.google.com/github/fregean/Aidemy_handson/blob/main/DataPreparation.ipynb\" target=\"_parent\"><img src=\"https://colab.research.google.com/assets/colab-badge.svg\" alt=\"Open In Colab\"/></a>"
      ]
    },
    {
      "cell_type": "code",
      "execution_count": null,
      "metadata": {
        "id": "WaBBeDyZNFaD"
      },
      "outputs": [],
      "source": [
        "from google.colab import drive\n",
        "drive.mount('/content/drive')"
      ]
    },
    {
      "cell_type": "code",
      "execution_count": null,
      "metadata": {
        "id": "2KgWGr2-NTrO"
      },
      "outputs": [],
      "source": [
        "# ディレクトリ変更\n",
        "import os\n",
        "\n",
        "os.chdir('/content/drive/MyDrive')"
      ]
    },
    {
      "cell_type": "code",
      "execution_count": null,
      "metadata": {},
      "outputs": [],
      "source": [
        "# 古いAidemy_handsonフォルダを消去する場合に実行\n",
        "\n",
        "import shutil\n",
        "\n",
        "directory = '/content/drive/MyDrive/Aidemy_handson'\n",
        "\n",
        "try:\n",
        "    shutil.rmtree(directory)\n",
        "\n",
        "except FileNotFoundError:\n",
        "    pass"
      ]
    },
    {
      "cell_type": "code",
      "execution_count": null,
      "metadata": {
        "id": "MVIZSe88NVR1"
      },
      "outputs": [],
      "source": [
        "# リポジトリをgit clone\n",
        "\n",
        "!git clone https://github.com/fregean/Aidemy_handson.git"
      ]
    }
  ],
  "metadata": {
    "colab": {
      "name": "DataPreparation",
      "provenance": [],
      "toc_visible": true
    },
    "kernelspec": {
      "display_name": "Python 3",
      "name": "python3"
    },
    "language_info": {
      "name": "python"
    }
  },
  "nbformat": 4,
  "nbformat_minor": 0
}
